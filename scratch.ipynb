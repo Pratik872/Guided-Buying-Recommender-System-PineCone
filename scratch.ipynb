{
 "cells": [
  {
   "cell_type": "markdown",
   "id": "3e7124b0",
   "metadata": {},
   "source": [
    "# Guided Buying Recommendation System"
   ]
  },
  {
   "cell_type": "code",
   "execution_count": 1,
   "id": "7e9c0022",
   "metadata": {},
   "outputs": [],
   "source": [
    "import warnings\n",
    "warnings.filterwarnings('ignore')"
   ]
  },
  {
   "cell_type": "markdown",
   "id": "100f96e8",
   "metadata": {},
   "source": [
    "## Environment Setup"
   ]
  },
  {
   "cell_type": "code",
   "execution_count": 2,
   "id": "2f62a589",
   "metadata": {},
   "outputs": [
    {
     "data": {
      "text/plain": [
       "True"
      ]
     },
     "execution_count": 2,
     "metadata": {},
     "output_type": "execute_result"
    }
   ],
   "source": [
    "# Load env variables\n",
    "\n",
    "import os\n",
    "from dotenv import load_dotenv\n",
    "\n",
    "load_dotenv()"
   ]
  },
  {
   "cell_type": "markdown",
   "id": "7a2bee75",
   "metadata": {},
   "source": [
    "## Pinecone DB Setup"
   ]
  },
  {
   "cell_type": "code",
   "execution_count": 3,
   "id": "164517fb",
   "metadata": {},
   "outputs": [],
   "source": [
    "#Pinecone client setup\n",
    "from pinecone import Pinecone, ServerlessSpec\n",
    "\n",
    "Pinecone_API_Key = os.getenv(\"PINECONE_API_KEY\")\n",
    "pc = Pinecone(api_key=Pinecone_API_Key)"
   ]
  },
  {
   "cell_type": "code",
   "execution_count": 4,
   "id": "7cddf952",
   "metadata": {},
   "outputs": [
    {
     "name": "stdout",
     "output_type": "stream",
     "text": [
      "Index already exists\n"
     ]
    }
   ],
   "source": [
    "#Creating index\n",
    "if \"amazon-data\" not in pc.list_indexes().names():\n",
    "    pc.create_index(\n",
    "        name=\"amazon-data\",\n",
    "        dimension= 768,\n",
    "        spec=ServerlessSpec(cloud=\"aws\", region=\"us-east-1\")\n",
    "    )\n",
    "    print(\"Index created\")\n",
    "else:\n",
    "    print(\"Index already exists\")"
   ]
  },
  {
   "cell_type": "code",
   "execution_count": 5,
   "id": "6c8bc413",
   "metadata": {},
   "outputs": [],
   "source": [
    "idx = pc.Index(\"amazon-data\")"
   ]
  },
  {
   "cell_type": "markdown",
   "id": "e004d50e",
   "metadata": {},
   "source": [
    "## NER Engine"
   ]
  },
  {
   "cell_type": "code",
   "execution_count": 6,
   "id": "8eb52f34",
   "metadata": {},
   "outputs": [
    {
     "name": "stderr",
     "output_type": "stream",
     "text": [
      "Device set to use cpu\n"
     ]
    }
   ],
   "source": [
    "from transformers import pipeline\n",
    "\n",
    "# Use this reliable model (no extra downloads needed)\n",
    "ner_engine = pipeline(\"ner\", \n",
    "               model=\"Babelscape/wikineural-multilingual-ner\",\n",
    "               aggregation_strategy=\"simple\")\n",
    "\n"
   ]
  },
  {
   "cell_type": "code",
   "execution_count": 7,
   "id": "519f23ef",
   "metadata": {},
   "outputs": [
    {
     "data": {
      "text/plain": [
       "[[{'entity_group': 'ORG',\n",
       "   'score': np.float32(0.6403332),\n",
       "   'word': 'York',\n",
       "   'start': 26,\n",
       "   'end': 30},\n",
       "  {'entity_group': 'MISC',\n",
       "   'score': np.float32(0.4894772),\n",
       "   'word': 'Bag',\n",
       "   'start': 31,\n",
       "   'end': 34}],\n",
       " [{'entity_group': 'PER',\n",
       "   'score': np.float32(0.7661619),\n",
       "   'word': 'Pratik',\n",
       "   'start': 11,\n",
       "   'end': 17}]]"
      ]
     },
     "execution_count": 7,
     "metadata": {},
     "output_type": "execute_result"
    }
   ],
   "source": [
    "# Extract entities\n",
    "entities = ner_engine([\"I need a buy a multicolor York Bag\", \"My name is Pratik\"])\n",
    "entities"
   ]
  },
  {
   "cell_type": "markdown",
   "id": "df17f25c",
   "metadata": {},
   "source": [
    "## Retriever - Embeddings"
   ]
  },
  {
   "cell_type": "code",
   "execution_count": 8,
   "id": "bc586e5d",
   "metadata": {},
   "outputs": [],
   "source": [
    "from sentence_transformers import SentenceTransformer\n",
    "\n",
    "retriever = SentenceTransformer(\"all-mpnet-base-v2\")"
   ]
  },
  {
   "cell_type": "code",
   "execution_count": 9,
   "id": "ed7c2fc6",
   "metadata": {},
   "outputs": [
    {
     "data": {
      "text/plain": [
       "SentenceTransformer(\n",
       "  (0): Transformer({'max_seq_length': 384, 'do_lower_case': False, 'architecture': 'MPNetModel'})\n",
       "  (1): Pooling({'word_embedding_dimension': 768, 'pooling_mode_cls_token': False, 'pooling_mode_mean_tokens': True, 'pooling_mode_max_tokens': False, 'pooling_mode_mean_sqrt_len_tokens': False, 'pooling_mode_weightedmean_tokens': False, 'pooling_mode_lasttoken': False, 'include_prompt': True})\n",
       "  (2): Normalize()\n",
       ")"
      ]
     },
     "execution_count": 9,
     "metadata": {},
     "output_type": "execute_result"
    }
   ],
   "source": [
    "retriever"
   ]
  },
  {
   "cell_type": "markdown",
   "id": "52609477",
   "metadata": {},
   "source": [
    "## Data Prep"
   ]
  },
  {
   "cell_type": "code",
   "execution_count": 10,
   "id": "addfbbbe",
   "metadata": {},
   "outputs": [],
   "source": [
    "import pandas as pd"
   ]
  },
  {
   "cell_type": "code",
   "execution_count": 11,
   "id": "5d15ad32",
   "metadata": {},
   "outputs": [],
   "source": [
    "df = pd.read_csv(\"./data/Amazon/amazon_products.csv\")"
   ]
  },
  {
   "cell_type": "code",
   "execution_count": 12,
   "id": "e66666ce",
   "metadata": {},
   "outputs": [
    {
     "data": {
      "text/html": [
       "<div>\n",
       "<style scoped>\n",
       "    .dataframe tbody tr th:only-of-type {\n",
       "        vertical-align: middle;\n",
       "    }\n",
       "\n",
       "    .dataframe tbody tr th {\n",
       "        vertical-align: top;\n",
       "    }\n",
       "\n",
       "    .dataframe thead th {\n",
       "        text-align: right;\n",
       "    }\n",
       "</style>\n",
       "<table border=\"1\" class=\"dataframe\">\n",
       "  <thead>\n",
       "    <tr style=\"text-align: right;\">\n",
       "      <th></th>\n",
       "      <th>title</th>\n",
       "      <th>productURL</th>\n",
       "      <th>stars</th>\n",
       "      <th>reviews</th>\n",
       "      <th>price</th>\n",
       "      <th>category_id</th>\n",
       "      <th>isBestSeller</th>\n",
       "      <th>boughtInLastMonth</th>\n",
       "    </tr>\n",
       "  </thead>\n",
       "  <tbody>\n",
       "    <tr>\n",
       "      <th>0</th>\n",
       "      <td>Sion Softside Expandable Roller Luggage, Black...</td>\n",
       "      <td>https://www.amazon.com/dp/B014TMV5YE</td>\n",
       "      <td>4.5</td>\n",
       "      <td>0</td>\n",
       "      <td>139.99</td>\n",
       "      <td>104</td>\n",
       "      <td>False</td>\n",
       "      <td>2000</td>\n",
       "    </tr>\n",
       "    <tr>\n",
       "      <th>1</th>\n",
       "      <td>Luggage Sets Expandable PC+ABS Durable Suitcas...</td>\n",
       "      <td>https://www.amazon.com/dp/B07GDLCQXV</td>\n",
       "      <td>4.5</td>\n",
       "      <td>0</td>\n",
       "      <td>169.99</td>\n",
       "      <td>104</td>\n",
       "      <td>False</td>\n",
       "      <td>1000</td>\n",
       "    </tr>\n",
       "    <tr>\n",
       "      <th>2</th>\n",
       "      <td>Platinum Elite Softside Expandable Checked Lug...</td>\n",
       "      <td>https://www.amazon.com/dp/B07XSCCZYG</td>\n",
       "      <td>4.6</td>\n",
       "      <td>0</td>\n",
       "      <td>365.49</td>\n",
       "      <td>104</td>\n",
       "      <td>False</td>\n",
       "      <td>300</td>\n",
       "    </tr>\n",
       "    <tr>\n",
       "      <th>3</th>\n",
       "      <td>Freeform Hardside Expandable with Double Spinn...</td>\n",
       "      <td>https://www.amazon.com/dp/B08MVFKGJM</td>\n",
       "      <td>4.6</td>\n",
       "      <td>0</td>\n",
       "      <td>291.59</td>\n",
       "      <td>104</td>\n",
       "      <td>False</td>\n",
       "      <td>400</td>\n",
       "    </tr>\n",
       "    <tr>\n",
       "      <th>4</th>\n",
       "      <td>Winfield 2 Hardside Expandable Luggage with Sp...</td>\n",
       "      <td>https://www.amazon.com/dp/B01DJLKZBA</td>\n",
       "      <td>4.5</td>\n",
       "      <td>0</td>\n",
       "      <td>174.99</td>\n",
       "      <td>104</td>\n",
       "      <td>False</td>\n",
       "      <td>400</td>\n",
       "    </tr>\n",
       "  </tbody>\n",
       "</table>\n",
       "</div>"
      ],
      "text/plain": [
       "                                               title  \\\n",
       "0  Sion Softside Expandable Roller Luggage, Black...   \n",
       "1  Luggage Sets Expandable PC+ABS Durable Suitcas...   \n",
       "2  Platinum Elite Softside Expandable Checked Lug...   \n",
       "3  Freeform Hardside Expandable with Double Spinn...   \n",
       "4  Winfield 2 Hardside Expandable Luggage with Sp...   \n",
       "\n",
       "                             productURL  stars  reviews   price  category_id  \\\n",
       "0  https://www.amazon.com/dp/B014TMV5YE    4.5        0  139.99          104   \n",
       "1  https://www.amazon.com/dp/B07GDLCQXV    4.5        0  169.99          104   \n",
       "2  https://www.amazon.com/dp/B07XSCCZYG    4.6        0  365.49          104   \n",
       "3  https://www.amazon.com/dp/B08MVFKGJM    4.6        0  291.59          104   \n",
       "4  https://www.amazon.com/dp/B01DJLKZBA    4.5        0  174.99          104   \n",
       "\n",
       "   isBestSeller  boughtInLastMonth  \n",
       "0         False               2000  \n",
       "1         False               1000  \n",
       "2         False                300  \n",
       "3         False                400  \n",
       "4         False                400  "
      ]
     },
     "execution_count": 12,
     "metadata": {},
     "output_type": "execute_result"
    }
   ],
   "source": [
    "#Features not required\n",
    "df.drop(['asin', 'imgUrl', 'listPrice'], axis = 1, inplace=True)\n",
    "df.head()"
   ]
  },
  {
   "cell_type": "code",
   "execution_count": 13,
   "id": "c5906300",
   "metadata": {},
   "outputs": [],
   "source": [
    "#Select only office related products\n",
    "cat_ids = [55, 56, 57, 60, 63, 64, 65, 66, 68, 69, 71, 72, 73, 75, 76, 81]\n",
    "\n",
    "df = df[df['category_id'].isin(cat_ids)]"
   ]
  },
  {
   "cell_type": "code",
   "execution_count": 14,
   "id": "cffa3e81",
   "metadata": {},
   "outputs": [],
   "source": [
    "df['title'] = df['title'].astype(str)\n",
    "df['productURL'] = df['productURL'].astype(str)"
   ]
  },
  {
   "cell_type": "code",
   "execution_count": 15,
   "id": "283ac28a",
   "metadata": {},
   "outputs": [
    {
     "name": "stdout",
     "output_type": "stream",
     "text": [
      "[<class 'str'>]\n",
      "[<class 'str'>]\n"
     ]
    }
   ],
   "source": [
    "print(df['title'].apply(type).unique())\n",
    "print(df['productURL'].apply(type).unique())"
   ]
  },
  {
   "cell_type": "code",
   "execution_count": 16,
   "id": "be46c104",
   "metadata": {},
   "outputs": [
    {
     "data": {
      "text/html": [
       "<div>\n",
       "<style scoped>\n",
       "    .dataframe tbody tr th:only-of-type {\n",
       "        vertical-align: middle;\n",
       "    }\n",
       "\n",
       "    .dataframe tbody tr th {\n",
       "        vertical-align: top;\n",
       "    }\n",
       "\n",
       "    .dataframe thead th {\n",
       "        text-align: right;\n",
       "    }\n",
       "</style>\n",
       "<table border=\"1\" class=\"dataframe\">\n",
       "  <thead>\n",
       "    <tr style=\"text-align: right;\">\n",
       "      <th></th>\n",
       "      <th>title</th>\n",
       "      <th>productURL</th>\n",
       "      <th>stars</th>\n",
       "      <th>reviews</th>\n",
       "      <th>price</th>\n",
       "      <th>category_id</th>\n",
       "      <th>isBestSeller</th>\n",
       "      <th>boughtInLastMonth</th>\n",
       "    </tr>\n",
       "  </thead>\n",
       "  <tbody>\n",
       "    <tr>\n",
       "      <th>0</th>\n",
       "      <td>Zmstlamp VLT-HC910LP VLT-HC100LP VLT-EX100LP R...</td>\n",
       "      <td>https://www.amazon.com/dp/B08RYJCM8S</td>\n",
       "      <td>3.8</td>\n",
       "      <td>25</td>\n",
       "      <td>47.99</td>\n",
       "      <td>69</td>\n",
       "      <td>False</td>\n",
       "      <td>0</td>\n",
       "    </tr>\n",
       "    <tr>\n",
       "      <th>1</th>\n",
       "      <td>EWO'S ELP50 Replacement Projector Lamp for Eps...</td>\n",
       "      <td>https://www.amazon.com/dp/B084ZMGTH6</td>\n",
       "      <td>4.6</td>\n",
       "      <td>13</td>\n",
       "      <td>59.99</td>\n",
       "      <td>69</td>\n",
       "      <td>False</td>\n",
       "      <td>0</td>\n",
       "    </tr>\n",
       "    <tr>\n",
       "      <th>2</th>\n",
       "      <td>VEVOR Movie Screen with Stand 180inch Portable...</td>\n",
       "      <td>https://www.amazon.com/dp/B094VBTRRT</td>\n",
       "      <td>4.2</td>\n",
       "      <td>126</td>\n",
       "      <td>199.99</td>\n",
       "      <td>69</td>\n",
       "      <td>False</td>\n",
       "      <td>0</td>\n",
       "    </tr>\n",
       "    <tr>\n",
       "      <th>3</th>\n",
       "      <td>Perlegear UL Listed Full Motion TV Wall Mount ...</td>\n",
       "      <td>https://www.amazon.com/dp/B0B8YZ5TR4</td>\n",
       "      <td>4.8</td>\n",
       "      <td>1864</td>\n",
       "      <td>45.99</td>\n",
       "      <td>69</td>\n",
       "      <td>False</td>\n",
       "      <td>0</td>\n",
       "    </tr>\n",
       "    <tr>\n",
       "      <th>4</th>\n",
       "      <td>LG Remote Magic Remote Control, Compatible wit...</td>\n",
       "      <td>https://www.amazon.com/dp/B08D1VF18M</td>\n",
       "      <td>4.4</td>\n",
       "      <td>8201</td>\n",
       "      <td>31.50</td>\n",
       "      <td>69</td>\n",
       "      <td>False</td>\n",
       "      <td>0</td>\n",
       "    </tr>\n",
       "  </tbody>\n",
       "</table>\n",
       "</div>"
      ],
      "text/plain": [
       "                                               title  \\\n",
       "0  Zmstlamp VLT-HC910LP VLT-HC100LP VLT-EX100LP R...   \n",
       "1  EWO'S ELP50 Replacement Projector Lamp for Eps...   \n",
       "2  VEVOR Movie Screen with Stand 180inch Portable...   \n",
       "3  Perlegear UL Listed Full Motion TV Wall Mount ...   \n",
       "4  LG Remote Magic Remote Control, Compatible wit...   \n",
       "\n",
       "                             productURL  stars  reviews   price  category_id  \\\n",
       "0  https://www.amazon.com/dp/B08RYJCM8S    3.8       25   47.99           69   \n",
       "1  https://www.amazon.com/dp/B084ZMGTH6    4.6       13   59.99           69   \n",
       "2  https://www.amazon.com/dp/B094VBTRRT    4.2      126  199.99           69   \n",
       "3  https://www.amazon.com/dp/B0B8YZ5TR4    4.8     1864   45.99           69   \n",
       "4  https://www.amazon.com/dp/B08D1VF18M    4.4     8201   31.50           69   \n",
       "\n",
       "   isBestSeller  boughtInLastMonth  \n",
       "0         False                  0  \n",
       "1         False                  0  \n",
       "2         False                  0  \n",
       "3         False                  0  \n",
       "4         False                  0  "
      ]
     },
     "execution_count": 16,
     "metadata": {},
     "output_type": "execute_result"
    }
   ],
   "source": [
    "df.reset_index(inplace=True, drop=True)\n",
    "df.head()"
   ]
  },
  {
   "cell_type": "markdown",
   "id": "e784e882",
   "metadata": {},
   "source": [
    "## Extract NER from newly created feature"
   ]
  },
  {
   "cell_type": "code",
   "execution_count": 17,
   "id": "6a3b8b01",
   "metadata": {},
   "outputs": [],
   "source": [
    "def extract_entities(list_of_text):\n",
    "    entities_list = []\n",
    "    for doc in list_of_text:\n",
    "        entities_list.append([item['word'] for item in ner_engine(doc)])\n",
    "\n",
    "    return entities_list"
   ]
  },
  {
   "cell_type": "code",
   "execution_count": 18,
   "id": "4ca8da16",
   "metadata": {},
   "outputs": [
    {
     "data": {
      "text/plain": [
       "[['Replacement Projector Lamp Bulb', 'Mitsubishi'],\n",
       " ['Projector Lamp', 'E', '##pson ELP', '##lite', 'Lamp Bulb']]"
      ]
     },
     "execution_count": 18,
     "metadata": {},
     "output_type": "execute_result"
    }
   ],
   "source": [
    "extract_entities(df['title'].iloc[0:2])"
   ]
  },
  {
   "cell_type": "markdown",
   "id": "5b6fad22",
   "metadata": {},
   "source": [
    "## Check if Retriever is working fine"
   ]
  },
  {
   "cell_type": "code",
   "execution_count": 19,
   "id": "2bbcdf70",
   "metadata": {},
   "outputs": [
    {
     "data": {
      "text/plain": [
       "0    Zmstlamp VLT-HC910LP VLT-HC100LP VLT-EX100LP R...\n",
       "1    EWO'S ELP50 Replacement Projector Lamp for Eps...\n",
       "2    VEVOR Movie Screen with Stand 180inch Portable...\n",
       "3    Perlegear UL Listed Full Motion TV Wall Mount ...\n",
       "4    LG Remote Magic Remote Control, Compatible wit...\n",
       "5    Mdbebbron 120 inch Projection Screen 16:9 Fold...\n",
       "6    Google Chromecast (3rd Generation) Media Strea...\n",
       "7    ELIVED UL Listed Full Motion TV Monitor Wall M...\n",
       "8    Universal Remote Control Compatible for Samsun...\n",
       "9    Amazon Basics 16-Gauge Speaker Wire Cable, 100...\n",
       "Name: title, dtype: object"
      ]
     },
     "execution_count": 19,
     "metadata": {},
     "output_type": "execute_result"
    }
   ],
   "source": [
    "df_batch = df['title'].iloc[0:10]\n",
    "df_batch"
   ]
  },
  {
   "cell_type": "code",
   "execution_count": 20,
   "id": "5f23ad36",
   "metadata": {},
   "outputs": [
    {
     "data": {
      "text/plain": [
       "10"
      ]
     },
     "execution_count": 20,
     "metadata": {},
     "output_type": "execute_result"
    }
   ],
   "source": [
    "len(retriever.encode(df_batch).tolist())"
   ]
  },
  {
   "cell_type": "markdown",
   "id": "2710e829",
   "metadata": {},
   "source": [
    "## Upsert Data into DB"
   ]
  },
  {
   "cell_type": "code",
   "execution_count": 21,
   "id": "05ec489a",
   "metadata": {},
   "outputs": [
    {
     "data": {
      "text/plain": [
       "'\\nbatch_size = 64\\ndf = df.sample(frac=1).reset_index(drop=True)\\n\\nfor i in tqdm(range(0, 50000, batch_size), desc=\"Processing batches\"):\\n   i_end = min(i+batch_size, len(df))\\n\\n   #Batch of Data\\n   df_batch = df.iloc[i:i_end]\\n\\n   #Embeddings\\n   emb = retriever.encode(df_batch[\\'title\\'].tolist()).tolist()\\n\\n   #NER Extraction\\n   entities = extract_entities(df_batch[\\'title\\'].tolist())\\n   df_batch[\\'ner\\'] = [list(set(entity)) for entity in entities]\\n\\n   #Create metadata\\n   metadata = df_batch.to_dict(orient=\\'records\\')\\n\\n   #Create indices\\n   ids = [str(id) for id in range(i, i_end)]\\n\\n   #Upsert\\n   vectors_to_upsert = list(zip(ids, emb, metadata))\\n   idx.upsert(vectors_to_upsert)\\n   '"
      ]
     },
     "execution_count": 21,
     "metadata": {},
     "output_type": "execute_result"
    }
   ],
   "source": [
    "from tqdm import tqdm\n",
    "'''\n",
    "batch_size = 64\n",
    "df = df.sample(frac=1).reset_index(drop=True)\n",
    "\n",
    "for i in tqdm(range(0, 50000, batch_size), desc=\"Processing batches\"):\n",
    "   i_end = min(i+batch_size, len(df))\n",
    "   \n",
    "   #Batch of Data\n",
    "   df_batch = df.iloc[i:i_end]\n",
    "   \n",
    "   #Embeddings\n",
    "   emb = retriever.encode(df_batch['title'].tolist()).tolist()\n",
    "   \n",
    "   #NER Extraction\n",
    "   entities = extract_entities(df_batch['title'].tolist())\n",
    "   df_batch['ner'] = [list(set(entity)) for entity in entities]\n",
    "   \n",
    "   #Create metadata\n",
    "   metadata = df_batch.to_dict(orient='records')\n",
    "   \n",
    "   #Create indices\n",
    "   ids = [str(id) for id in range(i, i_end)]\n",
    "   \n",
    "   #Upsert\n",
    "   vectors_to_upsert = list(zip(ids, emb, metadata))\n",
    "   idx.upsert(vectors_to_upsert)\n",
    "   '''"
   ]
  },
  {
   "cell_type": "markdown",
   "id": "8a7476d8",
   "metadata": {},
   "source": [
    "## Querying"
   ]
  },
  {
   "cell_type": "code",
   "execution_count": 22,
   "id": "722311eb",
   "metadata": {},
   "outputs": [
    {
     "data": {
      "text/plain": [
       "['HP']"
      ]
     },
     "execution_count": 22,
     "metadata": {},
     "output_type": "execute_result"
    }
   ],
   "source": [
    "query = \"I want to buy a HP laptop\"\n",
    "\n",
    "#Embedded vector\n",
    "emb_qx = retriever.encode(query).tolist()\n",
    "\n",
    "#NER\n",
    "ne = extract_entities([query])[0]\n",
    "ne"
   ]
  },
  {
   "cell_type": "code",
   "execution_count": 23,
   "id": "fa80a265",
   "metadata": {},
   "outputs": [],
   "source": [
    "xc = idx.query(vector=emb_qx, top_k=5, include_metadata=True, filter={\"ner\": {\"$in\": ne}})"
   ]
  },
  {
   "cell_type": "code",
   "execution_count": 24,
   "id": "9d724357",
   "metadata": {},
   "outputs": [
    {
     "name": "stdout",
     "output_type": "stream",
     "text": [
      "0.746730924   ['JVQ MP', 'Newest Pavilion Laptop', 'Type - C', 'Fingerprint Reader', 'Silver', '##MI', 'Bluetooth', 'Windows 11 Home', 'Intel Core', '##D', 'HP'] HP Newest Pavilion Laptop, 15.6\" FHD Screen, Intel Core i5-1135G7 Processor (up to 4.2 GHz), 32GB Memory, 1TB SSD, Fingerprint Reader, Type-C, HDMI, Bluetooth, Windows 11 Home, Silver, JVQ MP\n",
      "0.743216753   ['HP', 'Webcam', 'PCIe SSD', '##est Laptop', 'Fingerprint Reader', 'Type - C', 'Bluetooth', 'Silver', 'WiFi', 'Windows 11 Home', 'Intel Core', 'HDMI', 'Backlit Keyboard'] HP Newest Laptop, 15.6\" Full HD Touchscreen, Intel Core i7-1165G7, 16GB RAM, 1TB PCIe SSD, Backlit Keyboard, Fingerprint Reader, Webcam, WiFi 5, HDMI, Type-C, Bluetooth, Windows 11 Home, Silver\n",
      "0.733544409   ['Thin', 'Light Laptop', 'Webcam', 'Pink', 'Long Battery Life', 'Windows 11 + 1 Year Microsoft 365', 'Bluetooth', 'Wi - Fi', 'Intel Dual - Core Processor', 'HDMI', 'HP'] HP Premium 14-inch HD Thin and Light Laptop, Intel Dual-Core Processor, 16GB RAM, 64GB Storage, Long Battery Life, Webcam, Bluetooth, HDMI, Wi-Fi, Pink, Windows 11 + 1 Year Microsoft 365\n",
      "0.731946707   ['Intel Quad - core Processor', 'La', 'HDMI', 'Long Battery Life', 'LED', 'Bluetooth', 'Wi - Fi', 'Intel', 'HP', 'Windows 11 Home in S Mode'] HP 15.6\" Laptop with Intel 4-core CPU, 15.6\" HD LED Display, Intel Quad-core Processor, Bluetooth and Wi-Fi, HDMI, Long Battery Life, Windows 11 Home in S Mode(16GB RAM | 1TB SSD)\n",
      "0.729770422   ['Iris Xe Graphics', 'Free Mouse Pa', 'Webcam', 'PCIe SSD', 'Bluetooth', 'Win 11 Home', 'WiFi', 'Business Laptop Computer', 'Newest Flagship', 'HP'] HP Newest Flagship 14\" HD Business Laptop Computer, 4-Core i5-1135G7(Up to 4.2GHz, Beat i7-1060G7), 16GB RAM, 512GB PCIe SSD, Iris Xe Graphics, Webcam, WiFi, Bluetooth, Win 11 Home, w/Free Mouse Pad\n"
     ]
    }
   ],
   "source": [
    "for result in xc['matches']:\n",
    "    print(result['score'], \" \", result['metadata']['ner'], result['metadata']['title']  )"
   ]
  },
  {
   "cell_type": "markdown",
   "id": "cb33b61e",
   "metadata": {},
   "source": [
    "# GBR Modular"
   ]
  },
  {
   "cell_type": "markdown",
   "id": "c10b1924",
   "metadata": {},
   "source": [
    "## Search Agent"
   ]
  },
  {
   "cell_type": "code",
   "execution_count": 25,
   "id": "efc2c1c9",
   "metadata": {},
   "outputs": [],
   "source": [
    "from src.search_agent import SearchAgent\n",
    "from src.logging.logger import logging"
   ]
  },
  {
   "cell_type": "code",
   "execution_count": 26,
   "id": "2f6ed22f",
   "metadata": {},
   "outputs": [],
   "source": [
    "searchAgent = SearchAgent(pinecone_index=idx,\n",
    "                          retriever_model=retriever,\n",
    "                          ner_engine=ner_engine)\n",
    "logging.info(\"SearchAgent Initialized!\")"
   ]
  },
  {
   "cell_type": "code",
   "execution_count": 31,
   "id": "12a6de37",
   "metadata": {},
   "outputs": [
    {
     "data": {
      "text/plain": [
       "{'role': 'software_developer',\n",
       " 'budget': 2500,\n",
       " 'categories': ['electronics', 'computers']}"
      ]
     },
     "execution_count": 31,
     "metadata": {},
     "output_type": "execute_result"
    }
   ],
   "source": [
    "import json\n",
    "from config.constants import user\n",
    "# Load user profile\n",
    "with open('config/user_profiles.json', 'r') as f:\n",
    "    profiles = json.load(f)\n",
    "\n",
    "# Use specific profile\n",
    "user_profile = profiles[user]\n",
    "user_profile"
   ]
  },
  {
   "cell_type": "code",
   "execution_count": null,
   "id": "20183d5e",
   "metadata": {},
   "outputs": [
    {
     "name": "stderr",
     "output_type": "stream",
     "text": [
      "Batches: 100%|██████████| 1/1 [00:00<00:00, 35.24it/s]\n"
     ]
    }
   ],
   "source": [
    "results = searchAgent.search(query=query, user_profile=user_profile)\n",
    "logging.info(f\"Received results\")"
   ]
  },
  {
   "cell_type": "code",
   "execution_count": 33,
   "id": "d9c0b1c9",
   "metadata": {},
   "outputs": [
    {
     "data": {
      "text/plain": [
       "[SearchResult(id='33548', title='HP Newest Pavilion Laptop, 15.6\" FHD Screen, Intel Core i5-1135G7 Processor (up to 4.2 GHz), 32GB Memory, 1TB SSD, Fingerprint Reader, Type-C, HDMI, Bluetooth, Windows 11 Home, Silver, JVQ MP', price=619.0, stars=4.6, reviews=0, isBestSeller=False, boughtinLastMonth=0, productURL='https://www.amazon.com/dp/B0BNFBXRZX'),\n",
       " SearchResult(id='5928', title='HP Newest Laptop, 15.6\" Full HD Touchscreen, Intel Core i7-1165G7, 16GB RAM, 1TB PCIe SSD, Backlit Keyboard, Fingerprint Reader, Webcam, WiFi 5, HDMI, Type-C, Bluetooth, Windows 11 Home, Silver', price=774.99, stars=4.0, reviews=0, isBestSeller=False, boughtinLastMonth=0, productURL='https://www.amazon.com/dp/B092W6HR6R'),\n",
       " SearchResult(id='24450', title='HP Premium 14-inch HD Thin and Light Laptop, Intel Dual-Core Processor, 16GB RAM, 64GB Storage, Long Battery Life, Webcam, Bluetooth, HDMI, Wi-Fi, Pink, Windows 11 + 1 Year Microsoft 365', price=288.99, stars=4.0, reviews=0, isBestSeller=False, boughtinLastMonth=0, productURL='https://www.amazon.com/dp/B0BKR5XVY2'),\n",
       " SearchResult(id='13001', title='HP 15.6\" Laptop with Intel 4-core CPU, 15.6\" HD LED Display, Intel Quad-core Processor, Bluetooth and Wi-Fi, HDMI, Long Battery Life, Windows 11 Home in S Mode(16GB RAM | 1TB SSD)', price=399.0, stars=4.0, reviews=0, isBestSeller=False, boughtinLastMonth=0, productURL='https://www.amazon.com/dp/B0BPTKJ5JC'),\n",
       " SearchResult(id='30694', title='HP Newest Flagship 14\" HD Business Laptop Computer, 4-Core i5-1135G7(Up to 4.2GHz, Beat i7-1060G7), 16GB RAM, 512GB PCIe SSD, Iris Xe Graphics, Webcam, WiFi, Bluetooth, Win 11 Home, w/Free Mouse Pad', price=569.0, stars=4.1, reviews=0, isBestSeller=False, boughtinLastMonth=0, productURL='https://www.amazon.com/dp/B0BTBWGNQT')]"
      ]
     },
     "execution_count": 33,
     "metadata": {},
     "output_type": "execute_result"
    }
   ],
   "source": [
    "results"
   ]
  },
  {
   "cell_type": "code",
   "execution_count": null,
   "id": "ff39794f",
   "metadata": {},
   "outputs": [],
   "source": []
  }
 ],
 "metadata": {
  "kernelspec": {
   "display_name": "sap-gbr",
   "language": "python",
   "name": "python3"
  },
  "language_info": {
   "codemirror_mode": {
    "name": "ipython",
    "version": 3
   },
   "file_extension": ".py",
   "mimetype": "text/x-python",
   "name": "python",
   "nbconvert_exporter": "python",
   "pygments_lexer": "ipython3",
   "version": "3.12.0"
  }
 },
 "nbformat": 4,
 "nbformat_minor": 5
}
